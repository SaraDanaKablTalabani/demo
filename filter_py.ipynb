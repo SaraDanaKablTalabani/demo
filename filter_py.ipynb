{
  "nbformat": 4,
  "nbformat_minor": 0,
  "metadata": {
    "colab": {
      "name": "filter.py",
      "provenance": [],
      "collapsed_sections": [],
      "authorship_tag": "ABX9TyOtJItFwAKx6BuwER9RTt4L",
      "include_colab_link": true
    },
    "kernelspec": {
      "name": "python3",
      "display_name": "Python 3"
    },
    "language_info": {
      "name": "python"
    }
  },
  "cells": [
    {
      "cell_type": "markdown",
      "metadata": {
        "id": "view-in-github",
        "colab_type": "text"
      },
      "source": [
        "<a href=\"https://colab.research.google.com/github/SaraDanaKablTalabani/demo/blob/master/filter_py.ipynb\" target=\"_parent\"><img src=\"https://colab.research.google.com/assets/colab-badge.svg\" alt=\"Open In Colab\"/></a>"
      ]
    },
    {
      "cell_type": "code",
      "execution_count": null,
      "metadata": {
        "id": "CwE6gAs3nWQn"
      },
      "outputs": [],
      "source": [
        "import os\n",
        "import numpy as np"
      ]
    },
    {
      "cell_type": "code",
      "source": [
        "def image_patches(image, patch_size=(16, 16)):\n",
        "    \"\"\"\n",
        "    Given an input image and patch_size,\n",
        "    return the corresponding image patches made\n",
        "    by dividing up the image into patch_size sections.\n",
        "\n",
        "    Input- image: H x W\n",
        "           patch_size: a scalar tuple M, N\n",
        "    Output- results: a list of images of size M x N\n",
        "    \"\"\"\n",
        "    # TODO: Use slicing to complete the function\n",
        "    #output = []\n",
        "    #return output\n",
        "\n",
        "    def extract_patches(img, patch_size=(3, 3), stride=(1, 1)):\n",
        "        \"\"\"\n",
        "        Divide img into overlapping patches with stride = 1\n",
        "        img: (b, c, h, w)\n",
        "        output patches: (b, nH*nW, c, patch_size)\n",
        "        \"\"\"\n",
        "        assert type(patch_size) in [int, tuple], 'patch size should be int or tuple int'\n",
        "        assert type(stride) in [int, tuple], 'stride size should be int or tuple int'\n",
        "        if type(stride) is int:\n",
        "            stride = (stride, stride)\n",
        "        if type(patch_size) is int:\n",
        "            patch_size = (patch_size, patch_size)\n",
        "        patches = img.unfold(2, patch_size[0], stride[0]).unfold(3, patch_size[1], stride[1])\n",
        "        patches = patches.contiguous().view(img.shape[0], img.shape[1], -1, patch_size[0], patch_size[1])\n",
        "        patches = patches.transpose(1, 2)\n",
        "        return patches\n"
      ],
      "metadata": {
        "id": "vxMRI3krop96"
      },
      "execution_count": null,
      "outputs": []
    }
  ]
}