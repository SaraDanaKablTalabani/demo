{
  "nbformat": 4,
  "nbformat_minor": 0,
  "metadata": {
    "colab": {
      "provenance": [],
      "authorship_tag": "ABX9TyM6wCPFnPNDzafrlL36usao",
      "include_colab_link": true
    },
    "kernelspec": {
      "name": "python3",
      "display_name": "Python 3"
    },
    "language_info": {
      "name": "python"
    }
  },
  "cells": [
    {
      "cell_type": "markdown",
      "metadata": {
        "id": "view-in-github",
        "colab_type": "text"
      },
      "source": [
        "<a href=\"https://colab.research.google.com/github/SaraDanaKablTalabani/demo/blob/master/sara_python.ipynb\" target=\"_parent\"><img src=\"https://colab.research.google.com/assets/colab-badge.svg\" alt=\"Open In Colab\"/></a>"
      ]
    },
    {
      "cell_type": "code",
      "execution_count": null,
      "metadata": {
        "id": "zOgNmjWTrspv"
      },
      "outputs": [],
      "source": [
        "\n",
        "age=20\n",
        "price= 12.95\n",
        "first_name= \"Sara\"\n",
        "is_online = False"
      ]
    },
    {
      "cell_type": "code",
      "source": [
        "print(age)\n",
        "print(price)\n",
        "print(first_name)\n",
        "print(is_online)"
      ],
      "metadata": {
        "colab": {
          "base_uri": "https://localhost:8080/",
          "height": 252
        },
        "id": "1TMIB-yztBju",
        "outputId": "5d51b06c-c2cb-47f5-a4d8-c32817983d42"
      },
      "execution_count": null,
      "outputs": [
        {
          "output_type": "stream",
          "name": "stdout",
          "text": [
            "20\n",
            "12.95\n",
            "Sara\n"
          ]
        },
        {
          "output_type": "error",
          "ename": "NameError",
          "evalue": "ignored",
          "traceback": [
            "\u001b[0;31m---------------------------------------------------------------------------\u001b[0m",
            "\u001b[0;31mNameError\u001b[0m                                 Traceback (most recent call last)",
            "\u001b[0;32m<ipython-input-3-2efc2e6b306f>\u001b[0m in \u001b[0;36m<module>\u001b[0;34m\u001b[0m\n\u001b[1;32m      2\u001b[0m \u001b[0mprint\u001b[0m\u001b[0;34m(\u001b[0m\u001b[0mprice\u001b[0m\u001b[0;34m)\u001b[0m\u001b[0;34m\u001b[0m\u001b[0;34m\u001b[0m\u001b[0m\n\u001b[1;32m      3\u001b[0m \u001b[0mprint\u001b[0m\u001b[0;34m(\u001b[0m\u001b[0mfirst_name\u001b[0m\u001b[0;34m)\u001b[0m\u001b[0;34m\u001b[0m\u001b[0;34m\u001b[0m\u001b[0m\n\u001b[0;32m----> 4\u001b[0;31m \u001b[0mprint\u001b[0m\u001b[0;34m(\u001b[0m\u001b[0mis_online\u001b[0m\u001b[0;34m)\u001b[0m\u001b[0;34m\u001b[0m\u001b[0;34m\u001b[0m\u001b[0m\n\u001b[0m",
            "\u001b[0;31mNameError\u001b[0m: name 'is_online' is not defined"
          ]
        }
      ]
    },
    {
      "cell_type": "code",
      "source": [
        "input(\"What is your name ?\")"
      ],
      "metadata": {
        "colab": {
          "base_uri": "https://localhost:8080/",
          "height": 53
        },
        "id": "Vkk2Lgvnt_Zd",
        "outputId": "15ff4f34-3179-4f20-b41d-1c0e414696fe"
      },
      "execution_count": null,
      "outputs": [
        {
          "name": "stdout",
          "output_type": "stream",
          "text": [
            "What is your name ?Sara\n"
          ]
        },
        {
          "output_type": "execute_result",
          "data": {
            "text/plain": [
              "'Sara'"
            ],
            "application/vnd.google.colaboratory.intrinsic+json": {
              "type": "string"
            }
          },
          "metadata": {},
          "execution_count": 4
        }
      ]
    },
    {
      "cell_type": "code",
      "source": [
        "name= input(\"What is your name ? \")\n",
        "print (\"Hello \" + name)"
      ],
      "metadata": {
        "colab": {
          "base_uri": "https://localhost:8080/"
        },
        "id": "bpB_J0kHuRtG",
        "outputId": "ebd2e327-5218-4f3f-bbd1-194a27530aa0"
      },
      "execution_count": null,
      "outputs": [
        {
          "output_type": "stream",
          "name": "stdout",
          "text": [
            "What is your name ? Sara\n",
            "Hello Sara\n"
          ]
        }
      ]
    },
    {
      "cell_type": "code",
      "source": [
        "birth_year = input(\"Enter your birth year:\")\n",
        "\n",
        "\n",
        "age = 2022 - int(birth_year)\n",
        "print(age)"
      ],
      "metadata": {
        "colab": {
          "base_uri": "https://localhost:8080/"
        },
        "id": "T8bCHKHhsXJF",
        "outputId": "6bfffafc-e6ea-413c-c56d-00518d21ef6f"
      },
      "execution_count": null,
      "outputs": [
        {
          "output_type": "stream",
          "name": "stdout",
          "text": [
            "Enter your birth year:1991\n",
            "31\n"
          ]
        }
      ]
    },
    {
      "cell_type": "code",
      "source": [
        "first = input(\" enter 1st numv\")\n",
        "second = input(\" enter 1st num \")\n",
        "sum = float(first) + float(second)\n",
        "print(str(sum))"
      ],
      "metadata": {
        "colab": {
          "base_uri": "https://localhost:8080/"
        },
        "id": "3UHLvMAYgKaz",
        "outputId": "eb0e6c85-da43-4a62-9227-6f37592feca2"
      },
      "execution_count": null,
      "outputs": [
        {
          "output_type": "stream",
          "name": "stdout",
          "text": [
            " enter 1st numv1\n",
            " enter 1st num 2\n",
            "3.0\n"
          ]
        }
      ]
    },
    {
      "cell_type": "code",
      "source": [
        "tem = 35\n",
        "if tem > 30:\n",
        "  print(\"It's a hot day\")\n",
        "elif tem > 20:\n",
        "  print(\"It's a nice day\")\n",
        "\n",
        "print (\"Done\")\n"
      ],
      "metadata": {
        "colab": {
          "base_uri": "https://localhost:8080/"
        },
        "id": "5m3AVUpWqOeG",
        "outputId": "7a456cc8-0964-4ef7-cb43-906f6ba93437"
      },
      "execution_count": null,
      "outputs": [
        {
          "output_type": "stream",
          "name": "stdout",
          "text": [
            "It's a hot day\n",
            "Done\n"
          ]
        }
      ]
    },
    {
      "cell_type": "code",
      "source": [
        "nums = [1,2,3,4,5,6]\n",
        "for item in nums:\n",
        "  print(item)\n",
        "  \n",
        "print(nums)"
      ],
      "metadata": {
        "colab": {
          "base_uri": "https://localhost:8080/"
        },
        "id": "J6Hbyc6D8QAU",
        "outputId": "6347e703-73a8-49db-c772-c6ac57ec5cae"
      },
      "execution_count": null,
      "outputs": [
        {
          "output_type": "stream",
          "name": "stdout",
          "text": [
            "1\n",
            "2\n",
            "3\n",
            "4\n",
            "5\n",
            "6\n",
            "[1, 2, 3, 4, 5, 6]\n"
          ]
        }
      ]
    },
    {
      "cell_type": "code",
      "source": [
        "name = input('What is your name ?')\n",
        "print('Hi ' + name)"
      ],
      "metadata": {
        "id": "LEW-YvvV8ihD",
        "colab": {
          "base_uri": "https://localhost:8080/"
        },
        "outputId": "596e9571-f435-4223-86e9-3c21dc9ce959"
      },
      "execution_count": null,
      "outputs": [
        {
          "output_type": "stream",
          "name": "stdout",
          "text": [
            "What is your name ?Sara\n",
            "Hi Sara\n"
          ]
        }
      ]
    },
    {
      "cell_type": "code",
      "source": [
        "x = 10 + 3*2\n",
        "print(x) "
      ],
      "metadata": {
        "colab": {
          "base_uri": "https://localhost:8080/"
        },
        "id": "KbvjPwln35xU",
        "outputId": "fd120d32-b769-4436-f8f5-1f09502b1b34"
      },
      "execution_count": null,
      "outputs": [
        {
          "output_type": "stream",
          "name": "stdout",
          "text": [
            "16\n"
          ]
        }
      ]
    },
    {
      "cell_type": "code",
      "source": [
        "x= (2+3) * 10-3\n",
        "print(x) "
      ],
      "metadata": {
        "colab": {
          "base_uri": "https://localhost:8080/"
        },
        "id": "GSL0LUSS4V_v",
        "outputId": "d986d062-2308-4bfe-d9eb-2a721c2d0162"
      },
      "execution_count": null,
      "outputs": [
        {
          "output_type": "stream",
          "name": "stdout",
          "text": [
            "47\n"
          ]
        }
      ]
    },
    {
      "cell_type": "code",
      "source": [
        "x=2.9\n",
        "print(round(x)) "
      ],
      "metadata": {
        "colab": {
          "base_uri": "https://localhost:8080/"
        },
        "id": "ngdiLYES47IL",
        "outputId": "0396ba81-5917-4ecc-c344-1ec3a2437d71"
      },
      "execution_count": null,
      "outputs": [
        {
          "output_type": "stream",
          "name": "stdout",
          "text": [
            "3\n"
          ]
        }
      ]
    },
    {
      "cell_type": "code",
      "source": [
        "import math\n",
        "x=2.9\n",
        "print(abs(-2.9))"
      ],
      "metadata": {
        "colab": {
          "base_uri": "https://localhost:8080/"
        },
        "id": "S4kvgFxh5Dyl",
        "outputId": "e533ad73-fc3e-4c32-c919-1bdb8a505240"
      },
      "execution_count": null,
      "outputs": [
        {
          "output_type": "stream",
          "name": "stdout",
          "text": [
            "2.9\n"
          ]
        }
      ]
    },
    {
      "cell_type": "code",
      "source": [
        "import math\n",
        "x=2.9\n",
        "print(floor(-2.9))"
      ],
      "metadata": {
        "colab": {
          "base_uri": "https://localhost:8080/",
          "height": 200
        },
        "id": "kSofvC835onN",
        "outputId": "4e8e0804-498b-4cd8-9e6b-c86b062f5642"
      },
      "execution_count": null,
      "outputs": [
        {
          "output_type": "error",
          "ename": "NameError",
          "evalue": "ignored",
          "traceback": [
            "\u001b[0;31m---------------------------------------------------------------------------\u001b[0m",
            "\u001b[0;31mNameError\u001b[0m                                 Traceback (most recent call last)",
            "\u001b[0;32m<ipython-input-10-801b248a7494>\u001b[0m in \u001b[0;36m<module>\u001b[0;34m\u001b[0m\n\u001b[1;32m      1\u001b[0m \u001b[0;32mimport\u001b[0m \u001b[0mmath\u001b[0m\u001b[0;34m\u001b[0m\u001b[0;34m\u001b[0m\u001b[0m\n\u001b[1;32m      2\u001b[0m \u001b[0mx\u001b[0m\u001b[0;34m=\u001b[0m\u001b[0;36m2.9\u001b[0m\u001b[0;34m\u001b[0m\u001b[0;34m\u001b[0m\u001b[0m\n\u001b[0;32m----> 3\u001b[0;31m \u001b[0mprint\u001b[0m\u001b[0;34m(\u001b[0m\u001b[0mfloor\u001b[0m\u001b[0;34m(\u001b[0m\u001b[0;34m-\u001b[0m\u001b[0;36m2.9\u001b[0m\u001b[0;34m)\u001b[0m\u001b[0;34m)\u001b[0m\u001b[0;34m\u001b[0m\u001b[0;34m\u001b[0m\u001b[0m\n\u001b[0m",
            "\u001b[0;31mNameError\u001b[0m: name 'floor' is not defined"
          ]
        }
      ]
    },
    {
      "cell_type": "code",
      "source": [
        "is_hot = True\n",
        "is_cold = True\n",
        "if is_hot:\n",
        "  print(\"Is hot\")\n",
        "  print(\"Sara\")\n",
        "elif is_cold:\n",
        "  print(\"It's a cold day\")\n",
        "else:\n",
        "    print(\"Hi\")"
      ],
      "metadata": {
        "colab": {
          "base_uri": "https://localhost:8080/"
        },
        "id": "_ii9MMCu53NE",
        "outputId": "32f3fa4a-9355-4ff7-a62e-cdaeb9fb69ec"
      },
      "execution_count": null,
      "outputs": [
        {
          "output_type": "stream",
          "name": "stdout",
          "text": [
            "Is hot\n",
            "Sara\n"
          ]
        }
      ]
    },
    {
      "cell_type": "code",
      "source": [
        "price = 1000000\n",
        "has_good_credit = True\n",
        "if  has_good_credit:\n",
        "  dp= 0.1* price\n",
        "else:\n",
        "    dp = 0.2*price\n",
        "print(f\"Sara\")\n",
        " "
      ],
      "metadata": {
        "colab": {
          "base_uri": "https://localhost:8080/"
        },
        "id": "gO6AJCG_oHm8",
        "outputId": "b37a772b-b31b-4929-c38d-7477f1ccc00f"
      },
      "execution_count": null,
      "outputs": [
        {
          "output_type": "stream",
          "name": "stdout",
          "text": [
            "Sara\n"
          ]
        }
      ]
    },
    {
      "cell_type": "code",
      "source": [
        "name = \"S\"\n",
        "if len \n",
        "elif\n",
        "else:"
      ],
      "metadata": {
        "id": "EWol6wVhraQk"
      },
      "execution_count": null,
      "outputs": []
    },
    {
      "cell_type": "code",
      "source": [
        "we=input('W')\n",
        "unit =input ('(L)')\n",
        "name = \"S\"\n",
        "if len \n",
        "elif\n",
        "else:"
      ],
      "metadata": {
        "id": "bGos7iX_jTtH"
      },
      "execution_count": null,
      "outputs": []
    },
    {
      "cell_type": "code",
      "source": [
        "if not started:\n",
        "  print(\"Car is already started\")"
      ],
      "metadata": {
        "colab": {
          "base_uri": "https://localhost:8080/",
          "height": 182
        },
        "id": "ppyUY4-AlwFT",
        "outputId": "c4f1751e-1af0-4802-d3c7-f0a72b2664c9"
      },
      "execution_count": null,
      "outputs": [
        {
          "output_type": "error",
          "ename": "NameError",
          "evalue": "ignored",
          "traceback": [
            "\u001b[0;31m---------------------------------------------------------------------------\u001b[0m",
            "\u001b[0;31mNameError\u001b[0m                                 Traceback (most recent call last)",
            "\u001b[0;32m<ipython-input-1-e65434eff19c>\u001b[0m in \u001b[0;36m<module>\u001b[0;34m\u001b[0m\n\u001b[0;32m----> 1\u001b[0;31m \u001b[0;32mif\u001b[0m \u001b[0;32mnot\u001b[0m \u001b[0mstarted\u001b[0m\u001b[0;34m:\u001b[0m\u001b[0;34m\u001b[0m\u001b[0;34m\u001b[0m\u001b[0m\n\u001b[0m\u001b[1;32m      2\u001b[0m   \u001b[0mprint\u001b[0m\u001b[0;34m(\u001b[0m\u001b[0;34m\"Car is already started\"\u001b[0m\u001b[0;34m)\u001b[0m\u001b[0;34m\u001b[0m\u001b[0;34m\u001b[0m\u001b[0m\n",
            "\u001b[0;31mNameError\u001b[0m: name 'started' is not defined"
          ]
        }
      ]
    },
    {
      "cell_type": "code",
      "source": [
        "for item in \"Python\":\n",
        "  print(item)\n",
        "  "
      ],
      "metadata": {
        "id": "cLWpm6-amJz5"
      },
      "execution_count": null,
      "outputs": []
    },
    {
      "cell_type": "code",
      "source": [
        "  afor item in ['Sara', 'Sara 2']:\n",
        "  print(item)\n"
      ],
      "metadata": {
        "colab": {
          "base_uri": "https://localhost:8080/"
        },
        "id": "DfkfPU0Wtue4",
        "outputId": "07699f5a-e1ab-4379-ba0f-5b1cfd7c36ad"
      },
      "execution_count": null,
      "outputs": [
        {
          "output_type": "stream",
          "name": "stdout",
          "text": [
            "Sara\n",
            "Sara 2\n"
          ]
        }
      ]
    },
    {
      "cell_type": "code",
      "source": [
        "def greet(fn, ln):\n",
        "  print(f\"Hi {fn} {ln}\")\n",
        "  print(\"Welcome aboard\")\n",
        "\n",
        "greet(\"sara \",\"talabani\")\n",
        "greet(\"aeshah \",\"talabani\")\n"
      ],
      "metadata": {
        "colab": {
          "base_uri": "https://localhost:8080/"
        },
        "id": "rteJfg4soQ-_",
        "outputId": "b68dc8cf-9996-414d-b385-3ab25348e6fa"
      },
      "execution_count": null,
      "outputs": [
        {
          "output_type": "stream",
          "name": "stdout",
          "text": [
            "Hi sara  talabani\n",
            "Welcome aboard\n",
            "Hi aeshah  talabani\n",
            "Welcome aboard\n"
          ]
        }
      ]
    },
    {
      "cell_type": "code",
      "source": [
        "print('sara')"
      ],
      "metadata": {
        "colab": {
          "base_uri": "https://localhost:8080/"
        },
        "id": "IJKWC3vhMh4h",
        "outputId": "d85cbfa8-ae31-4183-cf60-685375687d40"
      },
      "execution_count": null,
      "outputs": [
        {
          "output_type": "stream",
          "name": "stdout",
          "text": [
            "sara\n"
          ]
        }
      ]
    },
    {
      "cell_type": "code",
      "source": [
        "print('o-----')\n",
        "print('  ||||')\n",
        "\n"
      ],
      "metadata": {
        "colab": {
          "base_uri": "https://localhost:8080/"
        },
        "id": "D7nFjc_8jE3k",
        "outputId": "87e4ac27-6277-4267-9ca3-e8ec3e92e4b8"
      },
      "execution_count": null,
      "outputs": [
        {
          "output_type": "stream",
          "name": "stdout",
          "text": [
            "o-----\n",
            "  ||||\n"
          ]
        }
      ]
    },
    {
      "cell_type": "code",
      "source": [
        "print('&'* 10)\n"
      ],
      "metadata": {
        "colab": {
          "base_uri": "https://localhost:8080/"
        },
        "id": "1wj3e-ankA8t",
        "outputId": "e7e905e7-f6d0-4fc4-8c1d-ffd0cb7844f4"
      },
      "execution_count": null,
      "outputs": [
        {
          "output_type": "stream",
          "name": "stdout",
          "text": [
            "&&&&&&&&&&\n"
          ]
        }
      ]
    },
    {
      "cell_type": "code",
      "source": [
        "price = 10\n",
        "rating=4.9\n",
        "name='sara'\n",
        "is_published = False\n",
        "print(price)"
      ],
      "metadata": {
        "colab": {
          "base_uri": "https://localhost:8080/"
        },
        "id": "KxGJ906dk_wt",
        "outputId": "e6a36299-5b3a-46ef-8b67-2c691b096767"
      },
      "execution_count": null,
      "outputs": [
        {
          "output_type": "stream",
          "name": "stdout",
          "text": [
            "10\n"
          ]
        }
      ]
    },
    {
      "cell_type": "code",
      "source": [
        "name='sara'\n",
        "age= 20\n",
        "is_new= True"
      ],
      "metadata": {
        "id": "izHXFoDvl9bm"
      },
      "execution_count": null,
      "outputs": []
    },
    {
      "cell_type": "code",
      "source": [
        "name =input(\"whta is your name? \")\n",
        "color =input(\"whta is your fa color? \")\n",
        "print(\"hi \"+ name + 'likes '+ color )"
      ],
      "metadata": {
        "colab": {
          "base_uri": "https://localhost:8080/"
        },
        "id": "gfVKzWUqBHcQ",
        "outputId": "8b36fc65-8bc8-443d-c5db-06570b23af3d"
      },
      "execution_count": null,
      "outputs": [
        {
          "output_type": "stream",
          "name": "stdout",
          "text": [
            "whta is your name? sa\n",
            "whta is your fa color? bl\n",
            "hi salikes bl\n"
          ]
        }
      ]
    },
    {
      "cell_type": "code",
      "source": [
        "by = input('by:')\n",
        "print(type(by))\n",
        "age = 2023 - int(by)\n",
        "print(type(age))\n",
        "print(age)"
      ],
      "metadata": {
        "colab": {
          "base_uri": "https://localhost:8080/"
        },
        "id": "5paimbPmF3zH",
        "outputId": "754190c8-7bc9-4188-981b-0343a96b9d16"
      },
      "execution_count": null,
      "outputs": [
        {
          "output_type": "stream",
          "name": "stdout",
          "text": [
            "by:1991\n",
            "<class 'str'>\n",
            "<class 'int'>\n",
            "32\n"
          ]
        }
      ]
    },
    {
      "cell_type": "code",
      "source": [
        "wb = input('w in p:')\n",
        "wk =int(wb)*0.45\n",
        "print(wk)\n"
      ],
      "metadata": {
        "colab": {
          "base_uri": "https://localhost:8080/"
        },
        "id": "y6yAj3n_G5HN",
        "outputId": "f919317d-51cd-484f-a7ef-ad4bf483455d"
      },
      "execution_count": null,
      "outputs": [
        {
          "output_type": "stream",
          "name": "stdout",
          "text": [
            "w in p:44\n",
            "19.8\n"
          ]
        }
      ]
    },
    {
      "cell_type": "code",
      "source": [
        "c = 'p for begin'"
      ],
      "metadata": {
        "id": "dPCaNhNBIQLp"
      },
      "execution_count": null,
      "outputs": []
    },
    {
      "cell_type": "code",
      "source": [
        "course= '''hi john\n",
        "this eamil for \n",
        "you'''\n",
        "print(course)"
      ],
      "metadata": {
        "colab": {
          "base_uri": "https://localhost:8080/"
        },
        "id": "3BKDFIzggCx7",
        "outputId": "ab3a3796-dca6-446a-bf75-5fb46ca8f78c"
      },
      "execution_count": null,
      "outputs": [
        {
          "output_type": "stream",
          "name": "stdout",
          "text": [
            "hi john\n",
            "this eamil for \n",
            "you\n"
          ]
        }
      ]
    },
    {
      "cell_type": "markdown",
      "source": [
        "formatted string"
      ],
      "metadata": {
        "id": "ilePgk2xI9by"
      }
    },
    {
      "cell_type": "code",
      "source": [
        "f = 'sa'\n",
        "l ='ta'\n",
        "#m=f+'['+l+'] is a coder'\n",
        "msg=f\"{f} [{l}] is a coder\"\n",
        "print(m) "
      ],
      "metadata": {
        "id": "BADFkvZDgbF-",
        "colab": {
          "base_uri": "https://localhost:8080/"
        },
        "outputId": "12b6b85a-837a-4395-90bf-5da1a6504f1c"
      },
      "execution_count": null,
      "outputs": [
        {
          "output_type": "stream",
          "name": "stdout",
          "text": [
            "sa[ta] is a coder\n"
          ]
        }
      ]
    },
    {
      "cell_type": "markdown",
      "source": [
        "python string"
      ],
      "metadata": {
        "id": "NM6UJg6tJAkU"
      }
    },
    {
      "cell_type": "code",
      "source": [
        "course = 'p for beginier'"
      ],
      "metadata": {
        "id": "zr5rM2hBDXA-"
      },
      "execution_count": null,
      "outputs": []
    }
  ]
}